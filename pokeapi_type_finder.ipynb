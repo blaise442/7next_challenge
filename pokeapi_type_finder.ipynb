{
 "cells": [
  {
   "cell_type": "code",
   "execution_count": 12,
   "metadata": {
    "id": "tdNKWfBs07lJ"
   },
   "outputs": [],
   "source": [
    "# Necessary imports\n",
    "import requests\n",
    "import my_pokemon_algo"
   ]
  },
  {
   "cell_type": "code",
   "execution_count": 13,
   "metadata": {
    "id": "a59zb_gD1NpJ"
   },
   "outputs": [],
   "source": [
    "# Get the data from PokeAPI\n",
    "resp = requests.get(\"https://pokeapi.co/api/v2/pokemon/pikachu\").json()"
   ]
  },
  {
   "cell_type": "code",
   "execution_count": 14,
   "metadata": {
    "id": "1u7rOq4A1fXs"
   },
   "outputs": [],
   "source": [
    "# Predict the type of a pokemon\n",
    "poke_type = my_pokemon_algo.predict(resp)"
   ]
  },
  {
   "cell_type": "code",
   "execution_count": 15,
   "metadata": {
    "colab": {
     "base_uri": "https://localhost:8080/"
    },
    "id": "iIFJv35P1giN",
    "outputId": "34493976-4b11-489e-9f95-65f15ec4a339"
   },
   "outputs": [
    {
     "name": "stdout",
     "output_type": "stream",
     "text": [
      "electric\n"
     ]
    }
   ],
   "source": [
    "# Example output -> \"electric\"\n",
    "print(poke_type)"
   ]
  },
  {
   "cell_type": "code",
   "execution_count": null,
   "metadata": {},
   "outputs": [],
   "source": []
  }
 ],
 "metadata": {
  "colab": {
   "name": "pokeapi_type_finder.ipynb",
   "provenance": []
  },
  "kernelspec": {
   "display_name": "Python 3 (ipykernel)",
   "language": "python",
   "name": "python3"
  },
  "language_info": {
   "codemirror_mode": {
    "name": "ipython",
    "version": 3
   },
   "file_extension": ".py",
   "mimetype": "text/x-python",
   "name": "python",
   "nbconvert_exporter": "python",
   "pygments_lexer": "ipython3",
   "version": "3.9.7"
  }
 },
 "nbformat": 4,
 "nbformat_minor": 1
}
